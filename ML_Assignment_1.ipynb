{
 "cells": [
  {
   "cell_type": "code",
   "execution_count": 3,
   "metadata": {},
   "outputs": [
    {
     "name": "stdout",
     "output_type": "stream",
     "text": [
      "Enter the data:2 3 6 1 8 3 6 2 9 3 5 6 8\n",
      "Input ['2', '3', '6', '1', '8', '3', '6', '2', '9', '3', '5', '6', '8']\n",
      "Output ['2', '3', '6', '1', '8', '9', '5']\n"
     ]
    }
   ],
   "source": [
    "'''\n",
    "Q1. Write a program to get a user input in the form of a list data type. Return a list by removing all the duplicates.\n",
    "       Sample Input -> [4, 4, 5, 6, 8, 4, 5]\n",
    "       Output -> [4, 5, 6, 8]\n",
    "    NOTE: Take user input using a for loop. \n",
    "'''\n",
    "\n",
    "\n",
    "\n",
    "n = input('Enter the data:')\n",
    "l = n.split()\n",
    "print('Input',l)\n",
    "s = []\n",
    "for i in l:\n",
    "    if i not in s:\n",
    "        s.append(i)\n",
    "print('Output',s)"
   ]
  },
  {
   "cell_type": "code",
   "execution_count": 15,
   "metadata": {},
   "outputs": [
    {
     "name": "stdout",
     "output_type": "stream",
     "text": [
      "Enter the data = 3 4 5 6\n",
      "The length of tuples =  4\n",
      "The sum of all the elements of a tuple =  18\n",
      "The largest element of a tuple =  6\n",
      "The smallest element of a tuple =  3\n"
     ]
    }
   ],
   "source": [
    "'''\n",
    "Q2. Write a program to create a user defined tuple with ‘int’ data type and perform the following operations:\n",
    "     Find the length of tuples\n",
    "     Find the sum of all the elements of a tuple\n",
    "     Find the largest and smallest elements of a tuple\n",
    "'''\n",
    "\n",
    "n = input('Enter the data = ')\n",
    "a = n.split()\n",
    "t = tuple(a)\n",
    "\n",
    "print('The length of tuples = ',len(t))\n",
    "\n",
    "x = 0\n",
    "for i in range (len(t)):\n",
    "    x = x + int(t[i])\n",
    "print('The sum of all the elements of a tuple = ',x)\n",
    "    \n",
    "print('The largest element of a tuple = ',max(t))\n",
    "print('The smallest element of a tuple = ',min(t))"
   ]
  },
  {
   "cell_type": "code",
   "execution_count": 16,
   "metadata": {},
   "outputs": [
    {
     "name": "stdout",
     "output_type": "stream",
     "text": [
      "num = 13\n",
      "ith = 1\n",
      "15\n"
     ]
    }
   ],
   "source": [
    "'''\n",
    "Q3. Given a number and ith bit, change the ith bit of that number to 1.\n",
    "      Sample Input -> num = 13, i = 1\n",
    "      Output -> 15\n",
    "    Explanation -> 13 can be represented as 1101 in binary. Now if we set the 1st bit of this binary represented value, \n",
    "    we will get 1111 (i.e. 15) as output.\n",
    "\n",
    "'''\n",
    "num = int(input(\"num = \"))\n",
    "i = int(input(\"ith = \"))\n",
    "a = (1 << i) | num\n",
    "print(a)"
   ]
  },
  {
   "cell_type": "code",
   "execution_count": 19,
   "metadata": {},
   "outputs": [
    {
     "name": "stdout",
     "output_type": "stream",
     "text": [
      "Enter the number = 12\n",
      "0\n"
     ]
    },
    {
     "data": {
      "text/plain": [
       "'if num%2 == 1:\\n    print(1)\\nelse:\\n    print(0)\\n    '"
      ]
     },
     "execution_count": 19,
     "metadata": {},
     "output_type": "execute_result"
    }
   ],
   "source": [
    "'''\n",
    "Q4. Given a number, print 1 if the number is odd otherwise print 0.\n",
    "    NOTE: Try to do this program without the use of if else statement.\n",
    "'''\n",
    "\n",
    "num = int(input('Enter the number = '))\n",
    "a = (1<<0) & num\n",
    "print(a)\n",
    "\n",
    "'''\n",
    "if num%2 == 1:\n",
    "    print(1)\n",
    "else:\n",
    "    print(0)\n",
    "    \n",
    "'''"
   ]
  },
  {
   "cell_type": "code",
   "execution_count": 18,
   "metadata": {},
   "outputs": [
    {
     "name": "stdout",
     "output_type": "stream",
     "text": [
      "Merged list : [2, 5, 6, 4, 2, 7, 6, 8, 9, 3, 5, 2]\n",
      "Ascending order : [2, 2, 2, 3, 4, 5, 5, 6, 6, 7, 8, 9]\n"
     ]
    }
   ],
   "source": [
    "'''\n",
    "Q5. Given two lists of integers A and B. Write a program to merge them into a single sorted list that contains\n",
    "    every item from list A and B in ascending order.\n",
    "'''\n",
    "A = [2,5,6,4,2,7]\n",
    "B = [6,8,9,3,5,2]\n",
    "c = A + B\n",
    "print('Merged list :',c)\n",
    "c.sort()\n",
    "print('Ascending order :',c)\n"
   ]
  },
  {
   "cell_type": "code",
   "execution_count": 22,
   "metadata": {},
   "outputs": [
    {
     "name": "stdout",
     "output_type": "stream",
     "text": [
      "{'Somya': 55, 'Soleman': 64, 'Vivek': 70, 'Arun': 80, 'Nakul': 95}\n"
     ]
    }
   ],
   "source": [
    "'''\n",
    "Q6. Create a user defined dictionary to store names and marks of 5 students.\n",
    "    Sort the dictionary according to marks and return this sorted dictionary to the user.\n",
    "       Sample Input -> {'Berlin': 70, 'Oslo':0, 'Moscow':50, 'Nairobi':100}\n",
    "       Output -> {'Oslo':0, 'Moscow':50, 'Berlin': 70, 'Nairobi':100}\n",
    "'''\n",
    "\n",
    "d = {'Arun': 80,'Vivek': 70,'Soleman': 64,'Somya': 55,'Nakul': 95}\n",
    "a = {k: v for k, v in sorted(d.items(), key=lambda item: item[1])}\n",
    "print(a)"
   ]
  },
  {
   "cell_type": "code",
   "execution_count": null,
   "metadata": {},
   "outputs": [],
   "source": []
  },
  {
   "cell_type": "code",
   "execution_count": null,
   "metadata": {},
   "outputs": [],
   "source": []
  }
 ],
 "metadata": {
  "kernelspec": {
   "display_name": "Python 3",
   "language": "python",
   "name": "python3"
  },
  "language_info": {
   "codemirror_mode": {
    "name": "ipython",
    "version": 3
   },
   "file_extension": ".py",
   "mimetype": "text/x-python",
   "name": "python",
   "nbconvert_exporter": "python",
   "pygments_lexer": "ipython3",
   "version": "3.7.3"
  }
 },
 "nbformat": 4,
 "nbformat_minor": 2
}
